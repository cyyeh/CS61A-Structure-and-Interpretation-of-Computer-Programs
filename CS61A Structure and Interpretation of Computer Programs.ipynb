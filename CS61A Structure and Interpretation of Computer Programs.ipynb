{
 "cells": [
  {
   "cell_type": "markdown",
   "metadata": {},
   "source": [
    "# CS61A: Structure and Interpretation of Computer Programs\n",
    "\n",
    "- Course Website: http://inst.eecs.berkeley.edu/~cs61a/sp18/\n",
    "- Course Contents: \n",
    "    - a course about managing complexity\n",
    "        - mastering abstraction\n",
    "            - function abstraction\n",
    "            - data abstraction\n",
    "        - programming paradigms\n",
    "            - functional programming\n",
    "            - object-oriented programming\n",
    "            - declarative programming\n",
    "            - logic programming\n",
    "            - distributed programming\n",
    "            - parallel programming\n",
    "    - an introduction to programming\n",
    "        - full understanding of Python fundamentals\n",
    "        - combining multiple ideas in large projects\n",
    "        - how computers interpret languages\n",
    "    - different types of languages\n",
    "        - Scheme\n",
    "        - SQL"
   ]
  },
  {
   "cell_type": "markdown",
   "metadata": {},
   "source": [
    "## Chapter 1: Building Abstractions with Functions"
   ]
  },
  {
   "cell_type": "markdown",
   "metadata": {},
   "source": [
    "### Expressions and statements\n",
    "\n",
    "- primitive expressions\n",
    "    - only take one step to evaluate\n",
    "    - numbers, booleans, names\n",
    "- assignment statements\n",
    "    - `a = (100 + 50) // 2`, `a` is bound to the value `75`, not the expression `(100 + 50) // 2`\n",
    "- boolean operators\n",
    "    - `and`, `or`, `not`\n",
    "    - short circuiting\n",
    "        - Short-circuiting happens when the operator reaches an operand that allows them to make a conclusion about the expression. For example, and will short-circuit as soon as it reaches the first false value because it then knows that not all the values are true.\n",
    "- division\n",
    "    - true division(decimal division): `/`\n",
    "    - floor division(integer division): `//`\n",
    "    - modulo(remainder): `%`\n",
    "\n",
    "### Functions\n",
    "\n",
    "abstract a series of statements over and over to avoid repeating code\n",
    "\n",
    "- call expressions\n",
    "    - evaluates to the function's return value\n",
    "- `return` and `print`\n",
    "    - `print` displays text without the quotes, but `return` preserves the quotes\n",
    "    - function returns `None` if no `return` statement\n",
    "\n",
    "### Control\n",
    "\n",
    "- `if` statements\n",
    "- `while` loops\n",
    "\n",
    "### Error messages\n",
    "\n",
    "helpful for debugging code\n",
    "\n",
    "|Error Types|Descriptions|\n",
    "|---|---|\n",
    "|SyntaxError|Contained improper syntax (e.g. missing a colon after an `if` statement or forgetting to close parentheses/quotes)|\n",
    "|IndentationError|Contained improper indentation (e.g. inconsistent indentation of a function body)|\n",
    "|TypeError|Attempted operation on incompatible types (e.g. trying to add a function and a number) or called function with the wrong number of arguments|\n",
    "|ZeroDivisionError|Attempted division by zero|"
   ]
  },
  {
   "cell_type": "markdown",
   "metadata": {},
   "source": [
    "**Lab 1 & HW 1**\n",
    "\n",
    "- lab1: https://github.com/cyyeh/CS61A-Structure-and-Interpretation-of-Computer-Programs/tree/master/labs/lab01\n",
    "- hw1: https://github.com/cyyeh/CS61A-Structure-and-Interpretation-of-Computer-Programs/tree/master/hw/hw01"
   ]
  },
  {
   "cell_type": "markdown",
   "metadata": {},
   "source": [
    "### Lambda Expressions\n",
    "\n",
    "`lambda <parameter>: <return expression>`"
   ]
  },
  {
   "cell_type": "code",
   "execution_count": 14,
   "metadata": {},
   "outputs": [
    {
     "data": {
      "text/plain": [
       "-9"
      ]
     },
     "execution_count": 14,
     "metadata": {},
     "output_type": "execute_result"
    }
   ],
   "source": [
    "# A lambda expression by itself does not alter\n",
    "# the environment\n",
    "lambda x: x * x\n",
    "\n",
    "# We can use lambda expressions in assignment\n",
    "# statements to give the function a name\n",
    "square = lambda x: x * x\n",
    "square(3)\n",
    "\n",
    "# We can pass lambda expressions as arguments\n",
    "# into call expressions\n",
    "negate = lambda f, x: -f(x)\n",
    "negate(lambda x: x * x, 3)"
   ]
  },
  {
   "cell_type": "markdown",
   "metadata": {},
   "source": [
    "### Higher Order Functions"
   ]
  },
  {
   "cell_type": "markdown",
   "metadata": {},
   "source": [
    "**functions as arguments**"
   ]
  },
  {
   "cell_type": "code",
   "execution_count": 15,
   "metadata": {},
   "outputs": [
    {
     "data": {
      "text/plain": [
       "20"
      ]
     },
     "execution_count": 15,
     "metadata": {},
     "output_type": "execute_result"
    }
   ],
   "source": [
    "def scale(f, x, k):\n",
    "    \"\"\" Returns the result of f(x) scaled by k. \"\"\"\n",
    "    return k * f(x)\n",
    "\n",
    "scale(square, 3, 2) # Double square(3)\n",
    "scale(square, 2, 5) # 5 times 2 squared"
   ]
  },
  {
   "cell_type": "markdown",
   "metadata": {},
   "source": [
    "**functions that return functions**"
   ]
  },
  {
   "cell_type": "code",
   "execution_count": 16,
   "metadata": {},
   "outputs": [
    {
     "data": {
      "text/plain": [
       "30"
      ]
     },
     "execution_count": 16,
     "metadata": {},
     "output_type": "execute_result"
    }
   ],
   "source": [
    "def multiply_by(m):\n",
    "    def multiply(n):\n",
    "        return n * m\n",
    "    return multiply\n",
    "\n",
    "times_three = multiply_by(3) # Assign the result of the call expression to a name\n",
    "times_three(5) # Call the inner function with its new name\n",
    "multiply_by(3)(10) # Chain together two call expressions"
   ]
  },
  {
   "cell_type": "markdown",
   "metadata": {},
   "source": [
    "### Environment Diagrams\n",
    "\n",
    "use [Python tutor](http://pythontutor.com/)"
   ]
  },
  {
   "cell_type": "markdown",
   "metadata": {},
   "source": [
    "**Lab 2 & HW 2**\n",
    "\n",
    "- lab2: https://github.com/cyyeh/CS61A-Structure-and-Interpretation-of-Computer-Programs/tree/master/labs/lab02\n",
    "- hw2: https://github.com/cyyeh/CS61A-Structure-and-Interpretation-of-Computer-Programs/tree/master/hw/hw02"
   ]
  },
  {
   "cell_type": "markdown",
   "metadata": {},
   "source": [
    "### Recursion"
   ]
  },
  {
   "cell_type": "markdown",
   "metadata": {},
   "source": [
    "A recursive function is a function that calls itself in its body, either directly or indirectly. Recursive functions have three important components:\n",
    "\n",
    "1. Base case(s), the simplest possible form of the problem you're trying to solve.\n",
    "2. Recursive case(s), where the function calls itself with a simpler argument as part of the computation.\n",
    "3. Using the recursive calls to solve the full problem.\n",
    "\n",
    "General tops on how to write recursive functions:\n",
    "- Consider how you can solve the current problem using the solution to a simpler version of the problem. Remember to trust the recursion: assume that your solution to the simpler problem works correctly without worrying about how.\n",
    "- Think about what the answer would be in the simplest possible case(s). These will be your base cases - the stopping points for your recursive calls. Make sure to consider the possibility that you're missing base cases (this is a common way recursive solutions fail).\n",
    "- It may help to write the iterative version first."
   ]
  },
  {
   "cell_type": "code",
   "execution_count": 17,
   "metadata": {},
   "outputs": [
    {
     "data": {
      "text/plain": [
       "120"
      ]
     },
     "execution_count": 17,
     "metadata": {},
     "output_type": "execute_result"
    }
   ],
   "source": [
    "def factorial(n):\n",
    "    if n == 0:\n",
    "        return 1\n",
    "    return n * factorial(n - 1)\n",
    "\n",
    "factorial(5)"
   ]
  },
  {
   "cell_type": "markdown",
   "metadata": {},
   "source": [
    "**Lab 3 & HW 3**\n",
    "\n",
    "- lab3: https://github.com/cyyeh/CS61A-Structure-and-Interpretation-of-Computer-Programs/tree/master/labs/lab03\n",
    "- hw3: https://github.com/cyyeh/CS61A-Structure-and-Interpretation-of-Computer-Programs/tree/master/hw/hw03"
   ]
  },
  {
   "cell_type": "markdown",
   "metadata": {},
   "source": [
    "## Chapter 2: Building Abstractions with Data"
   ]
  },
  {
   "cell_type": "markdown",
   "metadata": {},
   "source": [
    "### Lists\n",
    "\n",
    "Lists are Python data structures that can store multiple values. Each value can be any type and can even be another list!"
   ]
  },
  {
   "cell_type": "code",
   "execution_count": 18,
   "metadata": {},
   "outputs": [],
   "source": [
    "list_of_nums = [1, 2, 3, 4]\n",
    "list_of_bools = [True, True, False, False]\n",
    "nested_lists = [1, [2, 3], [4, [5]]]"
   ]
  },
  {
   "cell_type": "markdown",
   "metadata": {},
   "source": [
    "Lists are zero-indexed, meaning their indices start at 0 and increase in sequential order. To retrieve an element from a list, use list indexing"
   ]
  },
  {
   "cell_type": "code",
   "execution_count": 19,
   "metadata": {},
   "outputs": [
    {
     "data": {
      "text/plain": [
       "3"
      ]
     },
     "execution_count": 19,
     "metadata": {},
     "output_type": "execute_result"
    }
   ],
   "source": [
    "lst = [6, 5, 4, 3, 2, 1]\n",
    "lst[0] #6\n",
    "lst[3] #3"
   ]
  },
  {
   "cell_type": "markdown",
   "metadata": {},
   "source": [
    "To find the length of a list, call the function len on it"
   ]
  },
  {
   "cell_type": "code",
   "execution_count": 20,
   "metadata": {},
   "outputs": [
    {
     "data": {
      "text/plain": [
       "5"
      ]
     },
     "execution_count": 20,
     "metadata": {},
     "output_type": "execute_result"
    }
   ],
   "source": [
    "len([2, 4, 6, 8, 10])"
   ]
  },
  {
   "cell_type": "markdown",
   "metadata": {},
   "source": [
    "Recall that empty lists, [], are false-y values. Therefore, you can use an if statement like the following if you only want to do operations on non-empty lists"
   ]
  },
  {
   "cell_type": "code",
   "execution_count": 23,
   "metadata": {},
   "outputs": [
    {
     "name": "stdout",
     "output_type": "stream",
     "text": [
      "There is something in the list\n",
      "The list is empty now!\n"
     ]
    }
   ],
   "source": [
    "if lst:\n",
    "    print(\"There is something in the list\")\n",
    "\n",
    "lst = []\n",
    "\n",
    "if not lst:\n",
    "    print(\"The list is empty now!\")"
   ]
  },
  {
   "cell_type": "markdown",
   "metadata": {},
   "source": [
    "You can also create a copy of some portion of the list using list slicing. To slice a list, use this syntax: `lst[<start index>:<end index>]`. This expression evaluates to a new list containing the elements of `lst` starting at and including the element at `<start index>` up to but not including the element at `end index`"
   ]
  },
  {
   "cell_type": "code",
   "execution_count": 25,
   "metadata": {},
   "outputs": [
    {
     "data": {
      "text/plain": [
       "[True, False, True, True, False]"
      ]
     },
     "execution_count": 25,
     "metadata": {},
     "output_type": "execute_result"
    }
   ],
   "source": [
    "lst = [True, False, True, True, False]\n",
    "lst[1:4] #[False, True, True]\n",
    "lst[:3]  # Start index defaults to 0 #[True, False, True]\n",
    "lst[3:]  # End index defaults to len(lst) + 1 #[True, False]\n",
    "lst[:]  # Creates a copy of the whole list #[True, False, True, True, False]"
   ]
  },
  {
   "cell_type": "markdown",
   "metadata": {},
   "source": [
    "** list comprehensions **\n",
    "\n",
    "List comprehensions are a compact and powerful way of creating new lists out of sequences. The general syntax for a list comprehension is the following:\n",
    "\n",
    "`[<expression> for <element> in <sequence> if <conditional>]`\n",
    "\n",
    "The syntax is designed to read like English: \"Compute the expression for each element in the sequence if the conditional is true.\"\n",
    "\n",
    "The `if` clause in a list comprehension is optional."
   ]
  },
  {
   "cell_type": "code",
   "execution_count": 26,
   "metadata": {},
   "outputs": [
    {
     "data": {
      "text/plain": [
       "[4, 16]"
      ]
     },
     "execution_count": 26,
     "metadata": {},
     "output_type": "execute_result"
    }
   ],
   "source": [
    "[i**2 for i in [1, 2, 3, 4] if i % 2 == 0]"
   ]
  },
  {
   "cell_type": "code",
   "execution_count": 28,
   "metadata": {},
   "outputs": [
    {
     "data": {
      "text/plain": [
       "[1, 4, 3, 16]"
      ]
     },
     "execution_count": 28,
     "metadata": {},
     "output_type": "execute_result"
    }
   ],
   "source": [
    "[i**2 if i % 2 == 0 else i for i in [1, 2, 3, 4]]"
   ]
  },
  {
   "cell_type": "markdown",
   "metadata": {},
   "source": [
    "### Data Abstraction\n",
    "\n",
    "Data abstraction is a powerful concept in computer science that allows programmers to treat code as objects. That way, programmers don't have to worry about how code is implemented -- they just have to know what it does.\n",
    "\n",
    "Data abstraction mimics how we think about the world. When you want to drive a car, you don't need to know how the engine was built or what kind of material the tires are made of. You just have to know how to turn the wheel and press the gas pedal.\n",
    "\n",
    "An abstract data type consists of two types of functions:\n",
    "\n",
    "- Constructors: functions that build the abstract data type.\n",
    "- Selectors: functions that retrieve information from the data type.\n",
    "\n",
    "Programmers design ADTs to abstract away how information is stored and calculated such that the end user does not need to know how constructors and selectors are implemented. The nature of abstract data types allows whoever uses them to assume that the functions have been written correctly and work as described."
   ]
  },
  {
   "cell_type": "markdown",
   "metadata": {},
   "source": [
    "**Lab 4 & HW 4**\n",
    "\n",
    "- lab4: https://github.com/cyyeh/CS61A-Structure-and-Interpretation-of-Computer-Programs/tree/master/labs/lab04\n",
    "- hw4: https://github.com/cyyeh/CS61A-Structure-and-Interpretation-of-Computer-Programs/tree/master/hw/hw04"
   ]
  }
 ],
 "metadata": {
  "kernelspec": {
   "display_name": "Python 3",
   "language": "python",
   "name": "python3"
  },
  "language_info": {
   "codemirror_mode": {
    "name": "ipython",
    "version": 3
   },
   "file_extension": ".py",
   "mimetype": "text/x-python",
   "name": "python",
   "nbconvert_exporter": "python",
   "pygments_lexer": "ipython3",
   "version": "3.6.5"
  }
 },
 "nbformat": 4,
 "nbformat_minor": 2
}
