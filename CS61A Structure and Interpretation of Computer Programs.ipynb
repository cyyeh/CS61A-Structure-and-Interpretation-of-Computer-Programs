{
 "cells": [
  {
   "cell_type": "markdown",
   "metadata": {},
   "source": [
    "# CS61A: Structure and Interpretation of Computer Programs\n",
    "\n",
    "- Course Website: http://inst.eecs.berkeley.edu/~cs61a/sp18/\n",
    "- Course Contents: \n",
    "    - a course about managing complexity\n",
    "        - mastering abstraction\n",
    "            - function abstraction\n",
    "            - data abstraction\n",
    "        - programming paradigms\n",
    "            - functional programming\n",
    "            - object-oriented programming\n",
    "            - declarative programming\n",
    "            - logic programming\n",
    "            - distributed programming\n",
    "            - parallel programming\n",
    "    - an introduction to programming\n",
    "        - full understanding of Python fundamentals\n",
    "        - combining multiple ideas in large projects\n",
    "        - how computers interpret languages\n",
    "    - different types of languages\n",
    "        - Scheme\n",
    "        - SQL"
   ]
  },
  {
   "cell_type": "markdown",
   "metadata": {},
   "source": [
    "## Chapter 1: Building Abstractions with Functions"
   ]
  },
  {
   "cell_type": "markdown",
   "metadata": {},
   "source": [
    "### Expressions and statements\n",
    "\n",
    "- primitive expressions\n",
    "    - only take one step to evaluate\n",
    "    - numbers, booleans, names\n",
    "- assignment statements\n",
    "    - `a = (100 + 50) // 2`, `a` is bound to the value `75`, not the expression `(100 + 50) // 2`\n",
    "- boolean operators\n",
    "    - `and`, `or`, `not`\n",
    "    - short circuiting\n",
    "        - Short-circuiting happens when the operator reaches an operand that allows them to make a conclusion about the expression. For example, and will short-circuit as soon as it reaches the first false value because it then knows that not all the values are true.\n",
    "- division\n",
    "    - true division(decimal division): `/`\n",
    "    - floor division(integer division): `//`\n",
    "    - modulo(remainder): `%`\n",
    "\n",
    "### Functions\n",
    "\n",
    "abstract a series of statements over and over to avoid repeating code\n",
    "\n",
    "- call expressions\n",
    "    - evaluates to the function's return value\n",
    "- `return` and `print`\n",
    "    - `print` displays text without the quotes, but `return` preserves the quotes\n",
    "    - function returns `None` if no `return` statement\n",
    "\n",
    "### Control\n",
    "\n",
    "- `if` statements\n",
    "- `while` loops\n",
    "\n",
    "### Error messages\n",
    "\n",
    "helpful for debugging code\n",
    "\n",
    "|Error Types|Descriptions|\n",
    "|---|---|\n",
    "|SyntaxError|Contained improper syntax (e.g. missing a colon after an `if` statement or forgetting to close parentheses/quotes)|\n",
    "|IndentationError|Contained improper indentation (e.g. inconsistent indentation of a function body)|\n",
    "|TypeError|Attempted operation on incompatible types (e.g. trying to add a function and a number) or called function with the wrong number of arguments|\n",
    "|ZeroDivisionError|Attempted division by zero|"
   ]
  },
  {
   "cell_type": "code",
   "execution_count": 1,
   "metadata": {},
   "outputs": [
    {
     "name": "stdout",
     "output_type": "stream",
     "text": [
      "5\n",
      "5\n"
     ]
    }
   ],
   "source": [
    "from operator import add, sub\n",
    "\n",
    "def a_plus_abs_b(a, b):\n",
    "    \"\"\"Return a+abs(b), but without calling abs.\n",
    "\n",
    "    >>> a_plus_abs_b(2, 3)\n",
    "    5\n",
    "    >>> a_plus_abs_b(2, -3)\n",
    "    5\n",
    "    \"\"\"\n",
    "    if b < 0:\n",
    "        f = sub\n",
    "    else:\n",
    "        f = add\n",
    "    return f(a, b)\n",
    "\n",
    "print(a_plus_abs_b(2, 3))\n",
    "print(a_plus_abs_b(2, -3))"
   ]
  },
  {
   "cell_type": "code",
   "execution_count": null,
   "metadata": {},
   "outputs": [],
   "source": []
  }
 ],
 "metadata": {
  "kernelspec": {
   "display_name": "Python 3",
   "language": "python",
   "name": "python3"
  },
  "language_info": {
   "codemirror_mode": {
    "name": "ipython",
    "version": 3
   },
   "file_extension": ".py",
   "mimetype": "text/x-python",
   "name": "python",
   "nbconvert_exporter": "python",
   "pygments_lexer": "ipython3",
   "version": "3.6.5"
  }
 },
 "nbformat": 4,
 "nbformat_minor": 2
}
