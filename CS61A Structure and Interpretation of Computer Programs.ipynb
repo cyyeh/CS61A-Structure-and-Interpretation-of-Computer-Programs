{
 "cells": [
  {
   "cell_type": "markdown",
   "metadata": {},
   "source": [
    "# CS61A: Structure and Interpretation of Computer Programs\n",
    "\n",
    "- Course Website: http://inst.eecs.berkeley.edu/~cs61a/sp18/\n",
    "- Course Contents: \n",
    "    - a course about managing complexity\n",
    "        - mastering abstraction\n",
    "            - function abstraction\n",
    "            - data abstraction\n",
    "        - programming paradigms\n",
    "            - functional programming\n",
    "            - object-oriented programming\n",
    "            - declarative programming\n",
    "            - logic programming\n",
    "            - distributed programming\n",
    "            - parallel programming\n",
    "    - an introduction to programming\n",
    "        - full understanding of Python fundamentals\n",
    "        - combining multiple ideas in large projects\n",
    "        - how computers interpret languages\n",
    "    - different types of languages\n",
    "        - Scheme\n",
    "        - SQL"
   ]
  },
  {
   "cell_type": "markdown",
   "metadata": {},
   "source": [
    "## Chapter 1: Building Abstractions with Functions"
   ]
  },
  {
   "cell_type": "markdown",
   "metadata": {},
   "source": [
    "### Expressions and statements\n",
    "\n",
    "- primitive expressions\n",
    "    - only take one step to evaluate\n",
    "    - numbers, booleans, names\n",
    "- assignment statements\n",
    "    - `a = (100 + 50) // 2`, `a` is bound to the value `75`, not the expression `(100 + 50) // 2`\n",
    "- boolean operators\n",
    "    - `and`, `or`, `not`\n",
    "    - short circuiting\n",
    "        - Short-circuiting happens when the operator reaches an operand that allows them to make a conclusion about the expression. For example, and will short-circuit as soon as it reaches the first false value because it then knows that not all the values are true.\n",
    "- division\n",
    "    - true division(decimal division): `/`\n",
    "    - floor division(integer division): `//`\n",
    "    - modulo(remainder): `%`\n",
    "\n",
    "### Functions\n",
    "\n",
    "abstract a series of statements over and over to avoid repeating code\n",
    "\n",
    "- call expressions\n",
    "    - evaluates to the function's return value\n",
    "- `return` and `print`\n",
    "    - `print` displays text without the quotes, but `return` preserves the quotes\n",
    "    - function returns `None` if no `return` statement\n",
    "- documentation\n",
    "\n",
    "```python\n",
    "def pressure(v, t, n):\n",
    "    \"\"\"Compute the pressure in pascals of an ideal gas.\n",
    "\n",
    "    Applies the ideal gas law: http://en.wikipedia.org/wiki/Ideal_gas_law\n",
    "\n",
    "    v -- volume of gas, in cubic meters\n",
    "    t -- absolute temperature in degrees kelvin\n",
    "    n -- particles of gas\n",
    "    \"\"\"\n",
    "    k = 1.38e-23  # Boltzmann's constant\n",
    "    return n * k * t / v\n",
    "```\n",
    "\n",
    "- default argument values\n",
    "\n",
    "### Control\n",
    "\n",
    "- `if` statements\n",
    "- `while` loops\n",
    "\n",
    "### Error messages\n",
    "\n",
    "helpful for debugging code\n",
    "\n",
    "|Error Types|Descriptions|\n",
    "|---|---|\n",
    "|SyntaxError|Contained improper syntax (e.g. missing a colon after an `if` statement or forgetting to close parentheses/quotes)|\n",
    "|IndentationError|Contained improper indentation (e.g. inconsistent indentation of a function body)|\n",
    "|TypeError|Attempted operation on incompatible types (e.g. trying to add a function and a number) or called function with the wrong number of arguments|\n",
    "|ZeroDivisionError|Attempted division by zero|"
   ]
  },
  {
   "cell_type": "markdown",
   "metadata": {},
   "source": [
    "**Lab 1 & HW 1**\n",
    "\n",
    "- lab1: https://github.com/cyyeh/CS61A-Structure-and-Interpretation-of-Computer-Programs/tree/master/labs/lab01\n",
    "- hw1: https://github.com/cyyeh/CS61A-Structure-and-Interpretation-of-Computer-Programs/tree/master/hw/hw01"
   ]
  },
  {
   "cell_type": "markdown",
   "metadata": {},
   "source": [
    "### Lambda Expressions\n",
    "\n",
    "`lambda <parameter>: <return expression>`"
   ]
  },
  {
   "cell_type": "code",
   "execution_count": 8,
   "metadata": {},
   "outputs": [
    {
     "data": {
      "text/plain": [
       "-9"
      ]
     },
     "execution_count": 8,
     "metadata": {},
     "output_type": "execute_result"
    }
   ],
   "source": [
    "# A lambda expression by itself does not alter\n",
    "# the environment\n",
    "lambda x: x * x\n",
    "\n",
    "# We can use lambda expressions in assignment\n",
    "# statements to give the function a name\n",
    "square = lambda x: x * x\n",
    "square(3)\n",
    "\n",
    "# We can pass lambda expressions as arguments\n",
    "# into call expressions\n",
    "negate = lambda f, x: -f(x)\n",
    "negate(lambda x: x * x, 3)"
   ]
  },
  {
   "cell_type": "markdown",
   "metadata": {},
   "source": [
    "### Higher Order Functions"
   ]
  },
  {
   "cell_type": "markdown",
   "metadata": {},
   "source": [
    "**functions as arguments**"
   ]
  },
  {
   "cell_type": "code",
   "execution_count": 9,
   "metadata": {},
   "outputs": [
    {
     "data": {
      "text/plain": [
       "20"
      ]
     },
     "execution_count": 9,
     "metadata": {},
     "output_type": "execute_result"
    }
   ],
   "source": [
    "def scale(f, x, k):\n",
    "    \"\"\" Returns the result of f(x) scaled by k. \"\"\"\n",
    "    return k * f(x)\n",
    "\n",
    "scale(square, 3, 2) # Double square(3)\n",
    "scale(square, 2, 5) # 5 times 2 squared"
   ]
  },
  {
   "cell_type": "markdown",
   "metadata": {},
   "source": [
    "**functions that return functions**"
   ]
  },
  {
   "cell_type": "code",
   "execution_count": 16,
   "metadata": {},
   "outputs": [
    {
     "data": {
      "text/plain": [
       "30"
      ]
     },
     "execution_count": 16,
     "metadata": {},
     "output_type": "execute_result"
    }
   ],
   "source": [
    "def multiply_by(m):\n",
    "    def multiply(n):\n",
    "        return n * m\n",
    "    return multiply\n",
    "\n",
    "times_three = multiply_by(3) # Assign the result of the call expression to a name\n",
    "times_three(5) # Call the inner function with its new name\n",
    "multiply_by(3)(10) # Chain together two call expressions"
   ]
  },
  {
   "cell_type": "markdown",
   "metadata": {},
   "source": [
    "**nested functions**"
   ]
  },
  {
   "cell_type": "code",
   "execution_count": 11,
   "metadata": {},
   "outputs": [
    {
     "data": {
      "text/plain": [
       "25"
      ]
     },
     "execution_count": 11,
     "metadata": {},
     "output_type": "execute_result"
    }
   ],
   "source": [
    "def square_sum(a, b):\n",
    "    def square(x):\n",
    "        return x ** 2\n",
    "    \n",
    "    return square(a) + square(b)\n",
    "\n",
    "square_sum(3, 4)"
   ]
  },
  {
   "cell_type": "markdown",
   "metadata": {},
   "source": [
    "** currying **\n",
    "\n",
    "We can use higher-order functions to convert a function that takes multiple arguments into a chain of functions that each take a single argument."
   ]
  },
  {
   "cell_type": "code",
   "execution_count": 12,
   "metadata": {},
   "outputs": [
    {
     "data": {
      "text/plain": [
       "8"
      ]
     },
     "execution_count": 12,
     "metadata": {},
     "output_type": "execute_result"
    }
   ],
   "source": [
    "def curried_pow(x):\n",
    "    def h(y):\n",
    "        return pow(x, y)\n",
    "    return h\n",
    "\n",
    "curried_pow(2)(3)"
   ]
  },
  {
   "cell_type": "markdown",
   "metadata": {},
   "source": [
    "### Abstractions and First-Class Functions\n",
    "\n",
    "As programmers, we should be alert to opportunities to identify the underlying abstractions in our programs, build upon them, and generalize them to create more powerful abstractions. This is not to say that one should always write programs in the most abstract way possible; expert programmers know how to choose the level of abstraction appropriate to their task. But it is important to be able to think in terms of these abstractions, so that we can be ready to apply them in new contexts. The significance of higher-order functions is that they enable us to represent these abstractions explicitly as elements in our programming language, so that they can be handled just like other computational elements.\n",
    "\n",
    "In general, programming languages impose restrictions on the ways in which computational elements can be manipulated. Elements with the fewest restrictions are said to have first-class status. Some of the \"rights and privileges\" of first-class elements are:\n",
    "\n",
    "- They may be bound to names.\n",
    "- They may be passed as arguments to functions.\n",
    "- They may be returned as the results of functions.\n",
    "- They may be included in data structures.\n",
    "\n",
    "Python awards functions full first-class status, and the resulting gain in expressive power is enormous.\n",
    "\n"
   ]
  },
  {
   "cell_type": "markdown",
   "metadata": {},
   "source": [
    "### Environment Diagrams\n",
    "\n",
    "use [Python tutor](http://pythontutor.com/)"
   ]
  },
  {
   "cell_type": "markdown",
   "metadata": {},
   "source": [
    "**Lab 2 & HW 2**\n",
    "\n",
    "- lab2: https://github.com/cyyeh/CS61A-Structure-and-Interpretation-of-Computer-Programs/tree/master/labs/lab02\n",
    "- hw2: https://github.com/cyyeh/CS61A-Structure-and-Interpretation-of-Computer-Programs/tree/master/hw/hw02"
   ]
  },
  {
   "cell_type": "markdown",
   "metadata": {},
   "source": [
    "### Recursion"
   ]
  },
  {
   "cell_type": "markdown",
   "metadata": {},
   "source": [
    "A recursive function is a function that calls itself in its body, either directly or indirectly. Recursive functions have three important components:\n",
    "\n",
    "1. Base case(s), the simplest possible form of the problem you're trying to solve.\n",
    "2. Recursive case(s), where the function calls itself with a simpler argument as part of the computation.\n",
    "3. Using the recursive calls to solve the full problem.\n",
    "\n",
    "General tops on how to write recursive functions:\n",
    "- Consider how you can solve the current problem using the solution to a simpler version of the problem. Remember to trust the recursion: assume that your solution to the simpler problem works correctly without worrying about how.\n",
    "- Think about what the answer would be in the simplest possible case(s). These will be your base cases - the stopping points for your recursive calls. Make sure to consider the possibility that you're missing base cases (this is a common way recursive solutions fail).\n",
    "- It may help to write the iterative version first.\n",
    "\n",
    "Recursion types:\n",
    "- tree recursion\n",
    "- mutual recursion\n",
    "- tail recursion(see in Chapter 3)"
   ]
  },
  {
   "cell_type": "code",
   "execution_count": 17,
   "metadata": {},
   "outputs": [
    {
     "data": {
      "text/plain": [
       "120"
      ]
     },
     "execution_count": 17,
     "metadata": {},
     "output_type": "execute_result"
    }
   ],
   "source": [
    "def factorial(n):\n",
    "    if n == 0:\n",
    "        return 1\n",
    "    return n * factorial(n - 1)\n",
    "\n",
    "factorial(5)"
   ]
  },
  {
   "cell_type": "markdown",
   "metadata": {},
   "source": [
    "**Lab 3 & HW 3**\n",
    "\n",
    "- lab3: https://github.com/cyyeh/CS61A-Structure-and-Interpretation-of-Computer-Programs/tree/master/labs/lab03\n",
    "- hw3: https://github.com/cyyeh/CS61A-Structure-and-Interpretation-of-Computer-Programs/tree/master/hw/hw03"
   ]
  },
  {
   "cell_type": "markdown",
   "metadata": {},
   "source": [
    "## Chapter 2: Building Abstractions with Data"
   ]
  },
  {
   "cell_type": "markdown",
   "metadata": {},
   "source": [
    "### Lists\n",
    "\n",
    "Lists are Python data structures that can store multiple values. Each value can be any type and can even be another list!"
   ]
  },
  {
   "cell_type": "code",
   "execution_count": 18,
   "metadata": {},
   "outputs": [],
   "source": [
    "list_of_nums = [1, 2, 3, 4]\n",
    "list_of_bools = [True, True, False, False]\n",
    "nested_lists = [1, [2, 3], [4, [5]]]"
   ]
  },
  {
   "cell_type": "markdown",
   "metadata": {},
   "source": [
    "Lists are zero-indexed, meaning their indices start at 0 and increase in sequential order. To retrieve an element from a list, use list indexing"
   ]
  },
  {
   "cell_type": "code",
   "execution_count": 19,
   "metadata": {},
   "outputs": [
    {
     "data": {
      "text/plain": [
       "3"
      ]
     },
     "execution_count": 19,
     "metadata": {},
     "output_type": "execute_result"
    }
   ],
   "source": [
    "lst = [6, 5, 4, 3, 2, 1]\n",
    "lst[0] #6\n",
    "lst[3] #3"
   ]
  },
  {
   "cell_type": "markdown",
   "metadata": {},
   "source": [
    "To find the length of a list, call the function len on it"
   ]
  },
  {
   "cell_type": "code",
   "execution_count": 20,
   "metadata": {},
   "outputs": [
    {
     "data": {
      "text/plain": [
       "5"
      ]
     },
     "execution_count": 20,
     "metadata": {},
     "output_type": "execute_result"
    }
   ],
   "source": [
    "len([2, 4, 6, 8, 10])"
   ]
  },
  {
   "cell_type": "markdown",
   "metadata": {},
   "source": [
    "Recall that empty lists, [], are false-y values. Therefore, you can use an if statement like the following if you only want to do operations on non-empty lists"
   ]
  },
  {
   "cell_type": "code",
   "execution_count": 23,
   "metadata": {},
   "outputs": [
    {
     "name": "stdout",
     "output_type": "stream",
     "text": [
      "There is something in the list\n",
      "The list is empty now!\n"
     ]
    }
   ],
   "source": [
    "if lst:\n",
    "    print(\"There is something in the list\")\n",
    "\n",
    "lst = []\n",
    "\n",
    "if not lst:\n",
    "    print(\"The list is empty now!\")"
   ]
  },
  {
   "cell_type": "markdown",
   "metadata": {},
   "source": [
    "You can also create a copy of some portion of the list using list slicing. To slice a list, use this syntax: `lst[<start index>:<end index>]`. This expression evaluates to a new list containing the elements of `lst` starting at and including the element at `<start index>` up to but not including the element at `end index`"
   ]
  },
  {
   "cell_type": "code",
   "execution_count": 25,
   "metadata": {},
   "outputs": [
    {
     "data": {
      "text/plain": [
       "[True, False, True, True, False]"
      ]
     },
     "execution_count": 25,
     "metadata": {},
     "output_type": "execute_result"
    }
   ],
   "source": [
    "lst = [True, False, True, True, False]\n",
    "lst[1:4] #[False, True, True]\n",
    "lst[:3]  # Start index defaults to 0 #[True, False, True]\n",
    "lst[3:]  # End index defaults to len(lst) + 1 #[True, False]\n",
    "lst[:]  # Creates a copy of the whole list #[True, False, True, True, False]"
   ]
  },
  {
   "cell_type": "markdown",
   "metadata": {},
   "source": [
    "** list comprehensions **\n",
    "\n",
    "List comprehensions are a compact and powerful way of creating new lists out of sequences. The general syntax for a list comprehension is the following:\n",
    "\n",
    "`[<expression> for <element> in <sequence> if <conditional>]`\n",
    "\n",
    "The syntax is designed to read like English: \"Compute the expression for each element in the sequence if the conditional is true.\"\n",
    "\n",
    "The `if` clause in a list comprehension is optional."
   ]
  },
  {
   "cell_type": "code",
   "execution_count": 26,
   "metadata": {},
   "outputs": [
    {
     "data": {
      "text/plain": [
       "[4, 16]"
      ]
     },
     "execution_count": 26,
     "metadata": {},
     "output_type": "execute_result"
    }
   ],
   "source": [
    "[i**2 for i in [1, 2, 3, 4] if i % 2 == 0]"
   ]
  },
  {
   "cell_type": "code",
   "execution_count": 28,
   "metadata": {},
   "outputs": [
    {
     "data": {
      "text/plain": [
       "[1, 4, 3, 16]"
      ]
     },
     "execution_count": 28,
     "metadata": {},
     "output_type": "execute_result"
    }
   ],
   "source": [
    "[i**2 if i % 2 == 0 else i for i in [1, 2, 3, 4]]"
   ]
  },
  {
   "cell_type": "markdown",
   "metadata": {},
   "source": [
    "### Data Abstraction\n",
    "\n",
    "Data abstraction is a powerful concept in computer science that allows programmers to treat code as objects. That way, programmers don't have to worry about how code is implemented -- they just have to know what it does.\n",
    "\n",
    "Data abstraction mimics how we think about the world. When you want to drive a car, you don't need to know how the engine was built or what kind of material the tires are made of. You just have to know how to turn the wheel and press the gas pedal.\n",
    "\n",
    "An abstract data type consists of two types of functions:\n",
    "\n",
    "- Constructors: functions that build the abstract data type.\n",
    "- Selectors: functions that retrieve information from the data type.\n",
    "\n",
    "Programmers design ADTs to abstract away how information is stored and calculated such that the end user does not need to know how constructors and selectors are implemented. The nature of abstract data types allows whoever uses them to assume that the functions have been written correctly and work as described."
   ]
  },
  {
   "cell_type": "markdown",
   "metadata": {},
   "source": [
    "**Lab 4 & HW 4**\n",
    "\n",
    "- lab4: https://github.com/cyyeh/CS61A-Structure-and-Interpretation-of-Computer-Programs/tree/master/labs/lab04\n",
    "- hw4: https://github.com/cyyeh/CS61A-Structure-and-Interpretation-of-Computer-Programs/tree/master/hw/hw04"
   ]
  },
  {
   "cell_type": "markdown",
   "metadata": {},
   "source": [
    "### Sequences\n",
    "\n",
    "Sequences are ordered collections of values that support element-selection and have length. The most common sequence you've worked with are lists, but many other Python types are sequences as well, including strings.\n",
    "\n",
    "- list\n",
    "- dictionary\n",
    "- tuple\n",
    "- set\n",
    "- linked list(not built-in)\n",
    "- tree(not built-in)\n",
    "\n",
    "** for statements **\n",
    "\n",
    "```\n",
    "for <name> in <expression>:\n",
    "    <suite>\n",
    "```\n",
    "\n",
    "First, `<expression>` is evaluated. It must evaluate to a sequence, or else an error will be produced. Then, for each element in the sequence in order,\n",
    "\n",
    "- `<name>` is bound to its value.\n",
    "- `<suite>` is executed."
   ]
  },
  {
   "cell_type": "code",
   "execution_count": 1,
   "metadata": {},
   "outputs": [
    {
     "name": "stdout",
     "output_type": "stream",
     "text": [
      "Current elem: -1\n",
      "Current elem: 4\n",
      "Current elem: 2\n",
      "Current elem: 0\n",
      "Current elem: 5\n"
     ]
    }
   ],
   "source": [
    "for x in [-1, 4, 2, 0, 5]:\n",
    "    print(\"Current elem:\", x)"
   ]
  },
  {
   "cell_type": "markdown",
   "metadata": {},
   "source": [
    "### Dictionaries\n",
    "\n",
    "Dictionaries are unordered sets of key-value pairs. Keys can only be immutable types (strings, numbers, tuples), but their corresponding value can be anything! "
   ]
  },
  {
   "cell_type": "code",
   "execution_count": 2,
   "metadata": {},
   "outputs": [
    {
     "data": {
      "text/plain": [
       "'Chocolate'"
      ]
     },
     "execution_count": 2,
     "metadata": {},
     "output_type": "execute_result"
    }
   ],
   "source": [
    "singers = { 'Adele': 'Hello', 1975: 'Chocolate', 'The Weeknd': ['The Hills', 'Earned It'] }\n",
    "\n",
    "singers[1975]"
   ]
  },
  {
   "cell_type": "code",
   "execution_count": 3,
   "metadata": {},
   "outputs": [
    {
     "data": {
      "text/plain": [
       "True"
      ]
     },
     "execution_count": 3,
     "metadata": {},
     "output_type": "execute_result"
    }
   ],
   "source": [
    "'Adele' in singers"
   ]
  },
  {
   "cell_type": "markdown",
   "metadata": {},
   "source": [
    "`dict.keys()` will return a sequence of keys."
   ]
  },
  {
   "cell_type": "code",
   "execution_count": 4,
   "metadata": {},
   "outputs": [
    {
     "data": {
      "text/plain": [
       "['Adele', 1975, 'The Weeknd']"
      ]
     },
     "execution_count": 4,
     "metadata": {},
     "output_type": "execute_result"
    }
   ],
   "source": [
    "list(singers.keys())"
   ]
  },
  {
   "cell_type": "markdown",
   "metadata": {},
   "source": [
    "`dict.values()` will return a sequence of values."
   ]
  },
  {
   "cell_type": "code",
   "execution_count": 5,
   "metadata": {},
   "outputs": [
    {
     "data": {
      "text/plain": [
       "['Hello', 'Chocolate', ['The Hills', 'Earned It']]"
      ]
     },
     "execution_count": 5,
     "metadata": {},
     "output_type": "execute_result"
    }
   ],
   "source": [
    "list(singers.values())"
   ]
  },
  {
   "cell_type": "markdown",
   "metadata": {},
   "source": [
    "`dict.items()` will return a sequence of key-value pairs."
   ]
  },
  {
   "cell_type": "code",
   "execution_count": 6,
   "metadata": {},
   "outputs": [
    {
     "data": {
      "text/plain": [
       "[('Adele', 'Hello'),\n",
       " (1975, 'Chocolate'),\n",
       " ('The Weeknd', ['The Hills', 'Earned It'])]"
      ]
     },
     "execution_count": 6,
     "metadata": {},
     "output_type": "execute_result"
    }
   ],
   "source": [
    "list(singers.items())"
   ]
  },
  {
   "cell_type": "markdown",
   "metadata": {},
   "source": [
    "### Trees\n",
    "\n",
    "A `tree` is a data structure that represents a hierarchy of information. A file system is a good example of a tree structure. \n",
    "\n",
    "As you can see, unlike trees in nature, the tree abstract data type is drawn with the root at the top and the leaves at the bottom.\n",
    "\n",
    "Some tree terminology:\n",
    "\n",
    "- root: the node at the top of the tree\n",
    "- label: the value in a node; the label of the root is selected by the label function\n",
    "- branches: a list of trees directly under the tree's root, selected by the branches function\n",
    "- leaf: a tree with zero branches\n",
    "- node: any location within the tree (e.g., root node, leaf nodes, etc.)"
   ]
  },
  {
   "cell_type": "code",
   "execution_count": 18,
   "metadata": {},
   "outputs": [],
   "source": [
    "def tree(root_label, branches=[]):\n",
    "    for branch in branches:\n",
    "        assert is_tree(branch), 'branches must be trees.'\n",
    "    return [root_label] + list(branches)\n",
    "\n",
    "def label(tree):\n",
    "    return tree[0]\n",
    "\n",
    "def branches(tree):\n",
    "    return tree[1:]\n",
    "\n",
    "def is_tree(tree):\n",
    "    if type(tree) != list or len(tree) < 1:\n",
    "        return False\n",
    "    \n",
    "    for branch in branches(tree):\n",
    "        if not is_tree(branch):\n",
    "            return False\n",
    "    \n",
    "    return True\n",
    "\n",
    "def is_leaf(tree):\n",
    "    return not branches(tree)"
   ]
  },
  {
   "cell_type": "code",
   "execution_count": 19,
   "metadata": {},
   "outputs": [
    {
     "data": {
      "text/plain": [
       "3"
      ]
     },
     "execution_count": 19,
     "metadata": {},
     "output_type": "execute_result"
    }
   ],
   "source": [
    "t = tree(3, [tree(1), tree(2, [tree(1), tree(1)])])\n",
    "\n",
    "label(t)"
   ]
  },
  {
   "cell_type": "code",
   "execution_count": 20,
   "metadata": {},
   "outputs": [
    {
     "data": {
      "text/plain": [
       "[[1], [2, [1], [1]]]"
      ]
     },
     "execution_count": 20,
     "metadata": {},
     "output_type": "execute_result"
    }
   ],
   "source": [
    "branches(t)"
   ]
  },
  {
   "cell_type": "markdown",
   "metadata": {},
   "source": [
    "### linked lists "
   ]
  },
  {
   "cell_type": "code",
   "execution_count": 14,
   "metadata": {},
   "outputs": [],
   "source": [
    "empty = 'empty'\n",
    "def is_link(s):\n",
    "    \"\"\"s is a linked lsit if it is empty or a (first, rest) pair\"\"\"\n",
    "    return s == empty or (len(s) == 2 and is_link(s[1]))\n",
    "\n",
    "def link(first, rest):\n",
    "    \"\"\"construct a linked list from its first element and the rest\"\"\"\n",
    "    assert is_link(rest), \"rest must be a linked list\"\n",
    "    return [first, rest]\n",
    "\n",
    "def first(s):\n",
    "    \"\"\"return the first element of a linked list s\"\"\"\n",
    "    assert is_link(s), \"first only applies to linked lists\"\n",
    "    assert s != empty, \"empty linked list has no first element\"\n",
    "    return s[0]\n",
    "\n",
    "def rest(s):\n",
    "    \"\"\"return the rest of the elements of a linked list s\"\"\"\n",
    "    assert is_link(s), \"rest only applies to linked lists\"\n",
    "    assert s != empty, \"empty linked list has no rest\"\n",
    "    return s[1]"
   ]
  },
  {
   "cell_type": "code",
   "execution_count": 15,
   "metadata": {},
   "outputs": [],
   "source": [
    "four = link(1, link(2, link(3, link(4, empty))))"
   ]
  },
  {
   "cell_type": "code",
   "execution_count": 16,
   "metadata": {},
   "outputs": [
    {
     "data": {
      "text/plain": [
       "1"
      ]
     },
     "execution_count": 16,
     "metadata": {},
     "output_type": "execute_result"
    }
   ],
   "source": [
    "first(four)"
   ]
  },
  {
   "cell_type": "code",
   "execution_count": 17,
   "metadata": {},
   "outputs": [
    {
     "data": {
      "text/plain": [
       "[2, [3, [4, 'empty']]]"
      ]
     },
     "execution_count": 17,
     "metadata": {},
     "output_type": "execute_result"
    }
   ],
   "source": [
    "rest(four)"
   ]
  },
  {
   "cell_type": "markdown",
   "metadata": {},
   "source": [
    "** Lab 5 & HW 5 **\n",
    "\n",
    "- lab5: https://github.com/cyyeh/CS61A-Structure-and-Interpretation-of-Computer-Programs/tree/master/labs/lab05\n",
    "- hw5: https://github.com/cyyeh/CS61A-Structure-and-Interpretation-of-Computer-Programs/tree/master/hw/hw05"
   ]
  },
  {
   "cell_type": "markdown",
   "metadata": {},
   "source": [
    "### Nonlocal\n",
    "\n",
    "We say that a variable defined in a frame is local to that frame. A variable is nonlocal to a frame if it is defined in the environment that the frame belongs to but not the frame itself, i.e. in its parent or ancestor frame."
   ]
  },
  {
   "cell_type": "code",
   "execution_count": 4,
   "metadata": {},
   "outputs": [
    {
     "ename": "UnboundLocalError",
     "evalue": "local variable 'count' referenced before assignment",
     "output_type": "error",
     "traceback": [
      "\u001b[0;31m---------------------------------------------------------------------------\u001b[0m",
      "\u001b[0;31mUnboundLocalError\u001b[0m                         Traceback (most recent call last)",
      "\u001b[0;32m<ipython-input-4-7412f9ea11d7>\u001b[0m in \u001b[0;36m<module>\u001b[0;34m()\u001b[0m\n\u001b[1;32m     14\u001b[0m     \u001b[0;32mreturn\u001b[0m \u001b[0mcounter\u001b[0m\u001b[0;34m\u001b[0m\u001b[0m\n\u001b[1;32m     15\u001b[0m \u001b[0;34m\u001b[0m\u001b[0m\n\u001b[0;32m---> 16\u001b[0;31m \u001b[0mmake_counter\u001b[0m\u001b[0;34m(\u001b[0m\u001b[0;34m)\u001b[0m\u001b[0;34m(\u001b[0m\u001b[0;34m)\u001b[0m\u001b[0;34m\u001b[0m\u001b[0m\n\u001b[0m",
      "\u001b[0;32m<ipython-input-4-7412f9ea11d7>\u001b[0m in \u001b[0;36mcounter\u001b[0;34m()\u001b[0m\n\u001b[1;32m     10\u001b[0m     \u001b[0mcount\u001b[0m \u001b[0;34m=\u001b[0m \u001b[0;36m0\u001b[0m\u001b[0;34m\u001b[0m\u001b[0m\n\u001b[1;32m     11\u001b[0m     \u001b[0;32mdef\u001b[0m \u001b[0mcounter\u001b[0m\u001b[0;34m(\u001b[0m\u001b[0;34m)\u001b[0m\u001b[0;34m:\u001b[0m\u001b[0;34m\u001b[0m\u001b[0m\n\u001b[0;32m---> 12\u001b[0;31m         \u001b[0mcount\u001b[0m \u001b[0;34m=\u001b[0m \u001b[0mcount\u001b[0m \u001b[0;34m+\u001b[0m \u001b[0;36m1\u001b[0m\u001b[0;34m\u001b[0m\u001b[0m\n\u001b[0m\u001b[1;32m     13\u001b[0m         \u001b[0;32mreturn\u001b[0m \u001b[0mcount\u001b[0m\u001b[0;34m\u001b[0m\u001b[0m\n\u001b[1;32m     14\u001b[0m     \u001b[0;32mreturn\u001b[0m \u001b[0mcounter\u001b[0m\u001b[0;34m\u001b[0m\u001b[0m\n",
      "\u001b[0;31mUnboundLocalError\u001b[0m: local variable 'count' referenced before assignment"
     ]
    }
   ],
   "source": [
    "def make_counter():\n",
    "    \"\"\"Makes a counter function.\n",
    "\n",
    "    >>> counter = make_counter()\n",
    "    >>> counter()\n",
    "    1\n",
    "    >>> counter()\n",
    "    2\n",
    "    \"\"\"\n",
    "    count = 0\n",
    "    def counter():\n",
    "        count = count + 1\n",
    "        return count\n",
    "    return counter\n",
    "\n",
    "make_counter()()"
   ]
  },
  {
   "cell_type": "markdown",
   "metadata": {},
   "source": [
    "Q: Why does above error happen? \n",
    "\n",
    "A: When we execute an assignment statement, remember that we are either creating a new binding in our current frame or we are updating an old one in the current frame. For example, the line `count = ...` in counter, is creating the local variable `count` inside `counter`'s frame. This assignment statement tells Python to expect a variable called `count` inside `counter`'s frame, so Python will not look in parent frames for this variable. However, notice that we tried to compute `count + 1` before the local variable was created! That's why we get the `UnboundLocalError`."
   ]
  },
  {
   "cell_type": "markdown",
   "metadata": {},
   "source": [
    "To avoid this problem, we introduce the `nonlocal` keyword. It allows us to update a variable in a parent frame!\n",
    "\n",
    "Some important things to keep in mind when using `nonlocal`\n",
    "\n",
    "- `nonlocal` cannot be used with global variables (names defined in the global frame).\n",
    "- If no nonlocal variable is found with the given name, a `SyntaxError` is raised.\n",
    "- A name that is already local to a frame cannot be declared as nonlocal."
   ]
  },
  {
   "cell_type": "code",
   "execution_count": 5,
   "metadata": {},
   "outputs": [
    {
     "data": {
      "text/plain": [
       "1"
      ]
     },
     "execution_count": 5,
     "metadata": {},
     "output_type": "execute_result"
    }
   ],
   "source": [
    " def make_counter():\n",
    "    \"\"\"Makes a counter function.\n",
    "\n",
    "    >>> counter = make_counter()\n",
    "    >>> counter()\n",
    "    1\n",
    "    >>> counter()\n",
    "    2\n",
    "    \"\"\"\n",
    "    count = 0\n",
    "    def counter():\n",
    "        nonlocal count\n",
    "        count = count + 1\n",
    "        return count\n",
    "    return counter\n",
    "\n",
    "make_counter()()"
   ]
  },
  {
   "cell_type": "markdown",
   "metadata": {},
   "source": [
    "### Object-Oriented Programming(OOP)\n",
    "\n",
    "A model of programming that allows you to think of data in terms of \"objects\" with their own characteristics and actions, just like objects in real life! This is very powerful and allows you to create objects that are specific to your program"
   ]
  },
  {
   "cell_type": "markdown",
   "metadata": {},
   "source": [
    "### OOP Example: Car Class\n",
    "\n",
    "A class is a blueprint for creating objects of that type. In this case, the Car class statement tells us how to create `Car` objects."
   ]
  },
  {
   "cell_type": "markdown",
   "metadata": {},
   "source": [
    "**constructor**\n",
    "\n",
    "The constructor of a class is a function that creates an instance, or one single occurrence, of the object outlined by the class. In Python, the constructor method is named `__init__`. Note that there must be two underscores on each side of `init`.\n",
    "\n",
    "```python\n",
    "def __init__(self, make, model):\n",
    "    self.make = make\n",
    "    self.model = model\n",
    "    self.color = 'No color yet. You need to paint me.'\n",
    "    self.wheels = Car.num_wheels\n",
    "    self.gas = Car.gas\n",
    "```\n",
    "\n",
    "The `__init__` method for `Car` has three parameters. \n",
    "- The first one, `self`, is automatically bound to the newly created `Car` object. \n",
    "- The second and third parameters, `make` and `model`, are bound to the arguments passed to the constructor, meaning when we make a `Car` object, we must provide two arguments.\n",
    "\n",
    "**attributes**\n",
    "\n",
    "An instance attribute is a quality that is specific to an instance, and thus can only be accessed using dot notation (separating the instance and attribute with a period) on an instance. In this case, `self` is bound to our instance, so `self.model` references our instance's model.\n",
    "\n",
    "On the other hand, a class attribute is a quality that is shared among all instances of the class. For example, the `Car` class has four class attributes defined at the beginning of a class: `num_wheels = 4`, `gas = 30`, `headlights = 2` and `size = 'Tiny'`. The first says that all cars have `4` wheels."
   ]
  },
  {
   "cell_type": "code",
   "execution_count": 7,
   "metadata": {},
   "outputs": [],
   "source": [
    "class Car(object):\n",
    "    num_wheels = 4\n",
    "    gas = 30\n",
    "    headlights = 2\n",
    "    size = 'Tiny'\n",
    "\n",
    "    def __init__(self, make, model):\n",
    "        self.make = make\n",
    "        self.model = model\n",
    "        self.color = 'No color yet. You need to paint me.'\n",
    "        self.wheels = Car.num_wheels\n",
    "        self.gas = Car.gas\n",
    "\n",
    "    def paint(self, color):\n",
    "        self.color = color\n",
    "        return self.make + ' ' + self.model + ' is now ' + color\n",
    "\n",
    "hilfingers_car = Car('Tesla', 'Model S')"
   ]
  },
  {
   "cell_type": "markdown",
   "metadata": {},
   "source": [
    "**dot notation**\n",
    "\n",
    "Class attributes can also be accessed using dot notation, both on an instance and on the class name itself."
   ]
  },
  {
   "cell_type": "code",
   "execution_count": 8,
   "metadata": {},
   "outputs": [
    {
     "data": {
      "text/plain": [
       "'Tiny'"
      ]
     },
     "execution_count": 8,
     "metadata": {},
     "output_type": "execute_result"
    }
   ],
   "source": [
    "Car.size"
   ]
  },
  {
   "cell_type": "code",
   "execution_count": 9,
   "metadata": {},
   "outputs": [
    {
     "data": {
      "text/plain": [
       "'No color yet. You need to paint me.'"
      ]
     },
     "execution_count": 9,
     "metadata": {},
     "output_type": "execute_result"
    }
   ],
   "source": [
    "hilfingers_car.color"
   ]
  },
  {
   "cell_type": "markdown",
   "metadata": {},
   "source": [
    "**methods**\n",
    "\n",
    "Methods are functions that are specific to a class; only an instance of the class can use them. We've already seen one method: `__init__`! Think of methods as actions or abilities of objects."
   ]
  },
  {
   "cell_type": "code",
   "execution_count": 10,
   "metadata": {},
   "outputs": [
    {
     "data": {
      "text/plain": [
       "'Tesla Model S is now black'"
      ]
     },
     "execution_count": 10,
     "metadata": {},
     "output_type": "execute_result"
    }
   ],
   "source": [
    "hilfingers_car.paint('black')"
   ]
  },
  {
   "cell_type": "code",
   "execution_count": 11,
   "metadata": {},
   "outputs": [
    {
     "data": {
      "text/plain": [
       "'Tesla Model S is now red'"
      ]
     },
     "execution_count": 11,
     "metadata": {},
     "output_type": "execute_result"
    }
   ],
   "source": [
    "Car.paint(hilfingers_car, 'red')"
   ]
  },
  {
   "cell_type": "markdown",
   "metadata": {},
   "source": [
    "**inheritance**\n",
    "\n",
    "Inheritance makes setting up a hierarchy of classes easier because the amount of code you need to write to define a new class of objects is reduced. You only need to add (or override) new attributes or methods that you want to be unique from those in the superclass."
   ]
  },
  {
   "cell_type": "code",
   "execution_count": 12,
   "metadata": {},
   "outputs": [],
   "source": [
    "class MonsterTruck(Car):\n",
    "    size = 'Monster'\n",
    "\n",
    "    def rev(self):\n",
    "        print('Vroom! This Monster Truck is huge!')\n",
    "\n",
    "    def drive(self):\n",
    "        self.rev()\n",
    "        return Car.drive(self)\n",
    "    \n",
    "hilfingers_truck = MonsterTruck('Monster Truck', 'XXL')"
   ]
  },
  {
   "cell_type": "code",
   "execution_count": 13,
   "metadata": {},
   "outputs": [
    {
     "data": {
      "text/plain": [
       "'Tiny'"
      ]
     },
     "execution_count": 13,
     "metadata": {},
     "output_type": "execute_result"
    }
   ],
   "source": [
    "hilfingers_car.size"
   ]
  },
  {
   "cell_type": "code",
   "execution_count": 14,
   "metadata": {},
   "outputs": [
    {
     "data": {
      "text/plain": [
       "'Monster'"
      ]
     },
     "execution_count": 14,
     "metadata": {},
     "output_type": "execute_result"
    }
   ],
   "source": [
    "hilfingers_truck.size"
   ]
  },
  {
   "cell_type": "markdown",
   "metadata": {},
   "source": [
    "** Lab 6 & HW 6 **\n",
    "\n",
    "- lab6: https://github.com/cyyeh/CS61A-Structure-and-Interpretation-of-Computer-Programs/tree/master/labs/lab06\n",
    "- hw6: https://github.com/cyyeh/CS61A-Structure-and-Interpretation-of-Computer-Programs/tree/master/hw/hw06"
   ]
  },
  {
   "cell_type": "markdown",
   "metadata": {},
   "source": [
    "### Linked Lists(using OOP)"
   ]
  },
  {
   "cell_type": "code",
   "execution_count": 15,
   "metadata": {},
   "outputs": [],
   "source": [
    "class Link:\n",
    "    \"\"\"A linked list.\n",
    "\n",
    "    >>> s = Link(1)\n",
    "    >>> s.first\n",
    "    1\n",
    "    >>> s.rest is Link.empty\n",
    "    True\n",
    "    >>> s = Link(2, Link(3, Link(4)))\n",
    "    >>> s.second\n",
    "    3\n",
    "    >>> s.first = 5\n",
    "    >>> s.second = 6\n",
    "    >>> s.rest.rest = Link.empty\n",
    "    >>> s                                    # Displays the contents of repr(s)\n",
    "    Link(5, Link(6))\n",
    "    >>> s.rest = Link(7, Link(Link(8, Link(9))))\n",
    "    >>> s\n",
    "    Link(5, Link(7, Link(Link(8, Link(9)))))\n",
    "    >>> print(s)                             # Prints str(s)\n",
    "    <5 7 <8 9>>\n",
    "    \"\"\"\n",
    "    empty = ()\n",
    "\n",
    "    def __init__(self, first, rest=empty):\n",
    "        assert rest is Link.empty or isinstance(rest, Link)\n",
    "        self.first = first\n",
    "        self.rest = rest\n",
    "\n",
    "    @property\n",
    "    def second(self):\n",
    "        return self.rest.first\n",
    "\n",
    "    @second.setter\n",
    "    def second(self, value):\n",
    "        self.rest.first = value\n",
    "\n",
    "    def __repr__(self):\n",
    "        if self.rest is not Link.empty:\n",
    "            rest_repr = ', ' + repr(self.rest)\n",
    "        else:\n",
    "            rest_repr = ''\n",
    "        return 'Link(' + repr(self.first) + rest_repr + ')'\n",
    "\n",
    "    def __str__(self):\n",
    "        string = '<'\n",
    "        while self.rest is not Link.empty:\n",
    "            string += str(self.first) + ' '\n",
    "            self = self.rest\n",
    "        return string + str(self.first) + '>'"
   ]
  },
  {
   "cell_type": "markdown",
   "metadata": {},
   "source": [
    "### Trees"
   ]
  },
  {
   "cell_type": "code",
   "execution_count": 16,
   "metadata": {},
   "outputs": [],
   "source": [
    "class Tree:\n",
    "    def __init__(self, label, branches=[]):\n",
    "        for c in branches:\n",
    "            assert isinstance(c, Tree)\n",
    "        self.label = label\n",
    "        self.branches = list(branches)\n",
    "\n",
    "    def __repr__(self):\n",
    "        if self.branches:\n",
    "            branches_str = ', ' + repr(self.branches)\n",
    "        else:\n",
    "            branches_str = ''\n",
    "        return 'Tree({0}{1})'.format(self.label, branches_str)\n",
    "\n",
    "    def is_leaf(self):\n",
    "        return not self.branches\n",
    "\n",
    "    def __eq__(self, other):\n",
    "        return type(other) is type(self) and self.label == other.label \\\n",
    "               and self.branches == other.branches\n",
    "\n",
    "    def __str__(self):\n",
    "        def print_tree(t, indent=0):\n",
    "            tree_str = '  ' * indent + str(t.label) + \"\\n\"\n",
    "            for b in t.branches:\n",
    "                tree_str += print_tree(b, indent + 1)\n",
    "            return tree_str\n",
    "        return print_tree(self).rstrip()\n",
    "\n",
    "    def copy_tree(self):\n",
    "        return Tree(self.label, [b.copy_tree() for b in self.branches])"
   ]
  },
  {
   "cell_type": "markdown",
   "metadata": {},
   "source": [
    "** Lab 7 & HW 7 **\n",
    "\n",
    "- lab7: https://github.com/cyyeh/CS61A-Structure-and-Interpretation-of-Computer-Programs/tree/master/labs/lab07\n",
    "- hw7: https://github.com/cyyeh/CS61A-Structure-and-Interpretation-of-Computer-Programs/tree/master/hw/hw07\n",
    "\n",
    "** Lab 8 & HW 8 **\n",
    "\n",
    "- lab8: https://github.com/cyyeh/CS61A-Structure-and-Interpretation-of-Computer-Programs/tree/master/labs/lab08\n",
    "- hw8: https://github.com/cyyeh/CS61A-Structure-and-Interpretation-of-Computer-Programs/tree/master/hw/hw08"
   ]
  },
  {
   "cell_type": "markdown",
   "metadata": {},
   "source": [
    "## Chapter 3: Interpreting Computer Programs"
   ]
  },
  {
   "cell_type": "markdown",
   "metadata": {},
   "source": [
    "### Scheme\n",
    "\n",
    "Scheme is a famous functional programming language from the 1970s. It is a dialect of Lisp (which stands for LISt Processing). The first observation most people make is the unique syntax, which uses a prefix notation and (often many) nested parentheses. Scheme features first-class functions and optimized tail-recursion, which were relatively new features at the time.\n",
    "\n",
    "You may find it useful to try [scheme.cs61a.org](https://scheme.cs61a.org/) when working through problems, as it can draw environment and box-and-pointer diagrams and it lets you walk your code step-by-step (similar to Python Tutor). Don't forget to submit your code through Ok though!"
   ]
  },
  {
   "cell_type": "markdown",
   "metadata": {},
   "source": [
    "### Expressions\n",
    "\n",
    "**primitives**\n",
    "\n",
    "These include numbers, booleans, names, and symbols. In Scheme, all values except the special boolean value `#f` are interpreted as true values (unlike Python, where there are some false-y values like `0`).\n",
    "\n",
    "All expressions that aren't atomic expressions are either call expressions or special forms. \n",
    "\n",
    "**call expressions**\n",
    "\n",
    "```scheme\n",
    "(<operator> <operand1> <operand2> ...)\n",
    "```\n",
    "\n",
    "Unlike Python, the operator is included within the parentheses and the operands are separated by spaces rather than with commas. However, evaluation of a Scheme call expression follows the exact same rules as in Python:\n",
    "\n",
    "- Evaluate the operator. It should evaluate to a procedure.\n",
    "- Evaluate the operands, left to right.\n",
    "- Apply the procedure to the evaluated operands.\n",
    "\n",
    "**special forms**\n",
    "\n",
    "```scheme\n",
    "(<special-form> <operand1> <operand2> ...)\n",
    "```\n",
    "\n",
    "Each special form follows its own special rules for execution, such as short-circuiting before evaluating all the operands.\n",
    "\n",
    "Some examples of special forms that we'll study today are the `if`, `cond`, `define`, and `lambda` forms."
   ]
  },
  {
   "cell_type": "markdown",
   "metadata": {},
   "source": [
    "### Control Structures\n",
    "\n",
    "**`if` expressions**\n",
    "\n",
    "```scheme\n",
    "(if <condition> <true-result> <false-result>)\n",
    "```\n",
    "\n",
    "The `if` keyword precedes the 3 operands in a space separated list. The rules for evaluating the if special form are as follows:\n",
    "\n",
    "Evaluate `<condition>`.\n",
    "If `<condition>` evaluates to a truth-y value, the whole `if` expression evaluates to the value of `<true-result>`. Otherwise, it evaluates to the value of `<false-result>`.\n",
    "\n",
    "**`cond` expressions**\n",
    "\n",
    "Using nested `if` expressions doesn't seem like a very practical way to take care of multiple cases. Instead, we can use the `cond` special form, a general conditional expression similar to a multi-clause if/elif/else conditional expression in Python. \n",
    "\n",
    "```scheme\n",
    "(cond\n",
    "    (<p1> <e1>)\n",
    "    (<p2> <e2>)\n",
    "    ...\n",
    "    (<pn> <en>)\n",
    "    (else <else-expression>))\n",
    "```\n",
    "\n",
    "The rules of evaluation are as follows:\n",
    "\n",
    "- Evaluate the predicates `<p1>`, `<p2>`, ..., `<pn>` in order until you reach one that evaluates to a truth-y value.\n",
    "- The `cond` expression evaluates to the value of the `<ei>` corresponding to the first true `<pi>` expression.\n",
    "- If none of the predicates are truth-y and there is an `else` clause, evaluate and return `<else-expression>`."
   ]
  },
  {
   "cell_type": "markdown",
   "metadata": {},
   "source": [
    "### Lists\n",
    "\n",
    "**pairs**\n",
    "\n",
    "A pair is a built-in data type in Scheme that holds two values. To create a pair, use the cons procedure, which takes in two arguments:\n",
    "\n",
    "```scheme\n",
    "(cons 3 5) ; (3 . 5)\n",
    "```\n",
    "\n",
    "Elements in a pair are displayed as separated by a dot. We can use the car and cdr procedures to retrieve the first and second elements in the pair, respectively.\n",
    "\n",
    "```scheme\n",
    "(car (cons 3 5)) ; 3\n",
    "(cdr (cons 3 5)) ; 5\n",
    "```\n",
    "\n",
    "It's possible to nest cons calls such that an element within a pair is another pair!\n",
    "\n",
    "```scheme\n",
    "(cons (cons 1 2) 3) ; ((1 . 2) . 3)\n",
    "```\n",
    "\n",
    "**well-formed lists**\n",
    "\n",
    "A well-formed Scheme list is a list in which the `cdr` is either another well-formed list or `nil`, an empty list. A well-formed list is displayed in the interpreter with no dots. \n",
    "\n",
    "```scheme\n",
    "(cons 1 (cons 2 (cons 3 nil))) ; (1 2 3)\n",
    "```\n",
    "\n",
    "**`list` procedure**\n",
    "\n",
    "```scheme\n",
    "(list 1 2 3) ; (1 2 3)\n",
    "\n",
    "(list 1 (list 2 3) 4) ; (1 (2 3) 4)\n",
    "```\n",
    "\n",
    "**quote form**\n",
    "\n",
    "Unlike with the `list` procedure, the argument to `'` is not evaluated.\n",
    "\n",
    "```scheme\n",
    "'(1 2 3) ; (1 2 3)\n",
    "'(cons 1 2)  ; (cons 1 2)\n",
    "'(1 . (2 3 4)) ; (1 2 3 4) ; Removes dot/parentheses when possible\n",
    "```\n",
    "\n",
    "**built-in procedures for lists**\n",
    "\n",
    "```scheme\n",
    "(null? nil)\n",
    "\n",
    "(append '(1 2 3) '(4 5 6)) \n",
    "\n",
    "(length '(1 2 3 4 5))\n",
    "```"
   ]
  },
  {
   "cell_type": "markdown",
   "metadata": {},
   "source": [
    "### Defining procedures\n",
    "\n",
    "```scheme\n",
    "(define (<name> <param1> <param2> ...)\n",
    "    <body>\n",
    ")\n",
    "```"
   ]
  },
  {
   "cell_type": "markdown",
   "metadata": {},
   "source": [
    "### Lambdas\n",
    "\n",
    "```scheme\n",
    "(lambda (<param1> <param2> ...) <body>)\n",
    "```\n",
    "\n",
    "```scheme\n",
    "(lambda (x y) (+ x y)) ; return a lambda function, but doesn't assign it to a name\n",
    "\n",
    "((lambda (x y) (+ x y)) 3 4)  ; create and call a lambda function in one line, return 7\n",
    "```"
   ]
  },
  {
   "cell_type": "markdown",
   "metadata": {},
   "source": [
    "** Lab 9 & HW 9 **\n",
    "\n",
    "- lab9: https://github.com/cyyeh/CS61A-Structure-and-Interpretation-of-Computer-Programs/tree/master/labs/lab09\n",
    "- hw9: https://github.com/cyyeh/CS61A-Structure-and-Interpretation-of-Computer-Programs/tree/master/hw/hw09"
   ]
  },
  {
   "cell_type": "markdown",
   "metadata": {},
   "source": [
    "### Interpreters\n",
    "\n",
    "An interpreter is a program that allows you to interact with the computer in a certain language. It understands the expressions that you type in through that language, and performs the corresponding actions in some way, usually using an underlying language.\n",
    "\n",
    "When you talk about an interpreter, there are two languages at work:\n",
    "\n",
    "1. The language being interpreted/implemented.\n",
    "2. The underlying implementation language.\n",
    "\n",
    "Note that the underlying language need not be different from the implemented language. This idea is called Metacircular Evaluation.\n",
    "\n",
    "Many interpreters use a Read-Eval-Print Loop (REPL). This loop waits for user input, and then processes it in three steps:\n",
    "\n",
    "- Read: The interpreter takes the user input (a string) and passes it through a lexer and parser.\n",
    "    - The lexer turns the user input string into atomic pieces (tokens) that are like \"words\" of the implemented language.\n",
    "    - The parser takes the tokens and organizes them into data structures that the underlying language can understand.\n",
    "- Eval: Mutual recursion between eval and apply evaluate the expression to obtain a value.\n",
    "    - Eval takes an expression and evaluates it according to the rules of the language. Evaluating a call expression involves calling apply to apply an evaluated operator to its evaluated operands.\n",
    "    - Apply takes an evaluated operator, i.e., a function, and applies it to the call expression's arguments. Apply may call eval to do more work in the body of the function, so eval and apply are mutually recursive.\n",
    "- Print: Display the result of evaluating the user input.\n",
    "\n",
    "Here's how all the pieces fit together:\n",
    "\n",
    "```\n",
    "         +-------------------------------- Loop -----------+\n",
    "         |                                                 |\n",
    "         |  +-------+   +--------+   +-------+   +-------+ |\n",
    "Input ---+->| Lexer |-->| Parser |-->| Eval  |-->| Print |-+--> Output\n",
    "         |  +-------+   +--------+   +-------+   +-------+ |\n",
    "         |                              ^  |               |\n",
    "         |                              |  v               |\n",
    "         ^                           +-------+             v\n",
    "         |                           | Apply |             |\n",
    "         |    REPL                   +-------+             |\n",
    "         +-------------------------------------------------+\n",
    "```"
   ]
  },
  {
   "cell_type": "markdown",
   "metadata": {},
   "source": [
    "**Lab 10 & HW 10**\n",
    "\n",
    "- lab10: https://github.com/cyyeh/CS61A-Structure-and-Interpretation-of-Computer-Programs/tree/master/labs/lab10\n",
    "- hw10: https://github.com/cyyeh/CS61A-Structure-and-Interpretation-of-Computer-Programs/tree/master/hw/hw10"
   ]
  },
  {
   "cell_type": "code",
   "execution_count": null,
   "metadata": {},
   "outputs": [],
   "source": []
  }
 ],
 "metadata": {
  "kernelspec": {
   "display_name": "Python 3",
   "language": "python",
   "name": "python3"
  },
  "language_info": {
   "codemirror_mode": {
    "name": "ipython",
    "version": 3
   },
   "file_extension": ".py",
   "mimetype": "text/x-python",
   "name": "python",
   "nbconvert_exporter": "python",
   "pygments_lexer": "ipython3",
   "version": "3.6.5"
  }
 },
 "nbformat": 4,
 "nbformat_minor": 2
}
